{
 "cells": [
  {
   "cell_type": "markdown",
   "id": "a5b48caa",
   "metadata": {},
   "source": [
    "## Imports"
   ]
  },
  {
   "cell_type": "code",
   "execution_count": null,
   "id": "5a08d134",
   "metadata": {},
   "outputs": [],
   "source": [
    "import os\n",
    "import numpy as np\n",
    "import h5py\n",
    "import matplotlib.pyplot as plt\n",
    "import tensorflow as tf\n",
    "from tensorflow import keras\n",
    "from tensorflow.keras.layers import Flatten\n",
    "from tensorflow.keras.layers import Dense\n",
    "from tensorflow.keras.losses import SparseCategoricalCrossentropy\n",
    "from sklearn.metrics import accuracy_score\n",
    "from sys import getsizeof"
   ]
  },
  {
   "cell_type": "code",
   "execution_count": null,
   "id": "8a8a10ec",
   "metadata": {},
   "outputs": [],
   "source": [
    "print(tf.__version__)"
   ]
  },
  {
   "cell_type": "markdown",
   "id": "cf69605d",
   "metadata": {},
   "source": [
    "## Helper Functions"
   ]
  },
  {
   "cell_type": "code",
   "execution_count": null,
   "id": "e8e25ce0",
   "metadata": {},
   "outputs": [],
   "source": [
    "def get_file_size(file_path):\n",
    "    size = os.path.getsize(file_path)\n",
    "    return size"
   ]
  },
  {
   "cell_type": "code",
   "execution_count": null,
   "id": "de4f55a0",
   "metadata": {},
   "outputs": [],
   "source": [
    "def convert_bytes(size, unit=None):\n",
    "    if unit == \"KB\":\n",
    "        return print(\"File size: \" + str(round(size / 1024, 3)) + \" Kilobytes\")\n",
    "    elif unit == \"MB\":\n",
    "        return print(\"File size: \" + str(round(size / (1024 * 1024), 3)) + \" Megabytes\")\n",
    "    else:\n",
    "        return print(\"File size: \" + str(size) + \" bytes\")"
   ]
  },
  {
   "cell_type": "markdown",
   "id": "4ea76eae",
   "metadata": {},
   "source": [
    "## Import the Fashion MNIST dataset"
   ]
  },
  {
   "cell_type": "code",
   "execution_count": null,
   "id": "1cdd99e2",
   "metadata": {},
   "outputs": [],
   "source": [
    "fashion_mnist = keras.datasets.fashion_mnist\n",
    "(train_images, train_labels), (test_images, test_labels) = fashion_mnist.load_data()"
   ]
  },
  {
   "cell_type": "code",
   "execution_count": null,
   "id": "362612a4",
   "metadata": {},
   "outputs": [],
   "source": [
    "class_names = ['T-shirt/top', 'Trouser', 'Pullover', 'Dress', 'Coat', 'Sandal', 'Shirt', 'Sneaker', 'Bag', 'Ankle boot']"
   ]
  },
  {
   "cell_type": "markdown",
   "id": "7b2d1e49",
   "metadata": {},
   "source": [
    "## Explore the data"
   ]
  },
  {
   "cell_type": "code",
   "execution_count": null,
   "id": "54a50368",
   "metadata": {},
   "outputs": [],
   "source": [
    "train_images.shape"
   ]
  },
  {
   "cell_type": "code",
   "execution_count": null,
   "id": "d6c5a04a",
   "metadata": {},
   "outputs": [],
   "source": [
    "len(train_labels)"
   ]
  },
  {
   "cell_type": "code",
   "execution_count": null,
   "id": "983ed9e0",
   "metadata": {},
   "outputs": [],
   "source": [
    "np.unique(train_labels)"
   ]
  },
  {
   "cell_type": "markdown",
   "id": "ccd1a782",
   "metadata": {},
   "source": [
    "## Test Dataset"
   ]
  },
  {
   "cell_type": "code",
   "execution_count": null,
   "id": "ade1046e",
   "metadata": {},
   "outputs": [],
   "source": [
    "test_images.shape"
   ]
  },
  {
   "cell_type": "code",
   "execution_count": null,
   "id": "75e3d18f",
   "metadata": {},
   "outputs": [],
   "source": [
    "len(test_labels)"
   ]
  },
  {
   "cell_type": "markdown",
   "id": "2cf5df58",
   "metadata": {},
   "source": [
    "## Preprocessing"
   ]
  },
  {
   "cell_type": "code",
   "execution_count": null,
   "id": "43e31aa0",
   "metadata": {},
   "outputs": [],
   "source": [
    "plt.figure()\n",
    "plt.imshow(train_images[88], cmap=\"gray\")\n",
    "plt.colorbar()\n",
    "plt.grid(False)\n",
    "plt.show()"
   ]
  },
  {
   "cell_type": "code",
   "execution_count": null,
   "id": "5d9f3521",
   "metadata": {},
   "outputs": [],
   "source": [
    "train_images = train_images / 255.0\n",
    "test_images = test_images / 255.0"
   ]
  },
  {
   "cell_type": "markdown",
   "id": "d8912047",
   "metadata": {},
   "source": [
    "## Build and compile the model"
   ]
  },
  {
   "cell_type": "code",
   "execution_count": null,
   "id": "93d9979f",
   "metadata": {},
   "outputs": [],
   "source": [
    "model = keras.Sequential([\n",
    "    Flatten(input_shape=(28, 28)),\n",
    "    Dense(128, activation='relu'),\n",
    "    Dense(10)\n",
    "])"
   ]
  },
  {
   "cell_type": "code",
   "execution_count": null,
   "id": "7132458f",
   "metadata": {},
   "outputs": [],
   "source": [
    "model.summary()"
   ]
  },
  {
   "cell_type": "code",
   "execution_count": null,
   "id": "fe91967f",
   "metadata": {},
   "outputs": [],
   "source": [
    "model.compile(\n",
    "    optimizer='adam',\n",
    "    loss=SparseCategoricalCrossentropy(from_logits=True),\n",
    "    metrics=['accuracy']\n",
    ")"
   ]
  },
  {
   "cell_type": "code",
   "execution_count": null,
   "id": "144ca07d",
   "metadata": {},
   "outputs": [],
   "source": [
    "model.fit(train_images, train_labels, epochs=10)"
   ]
  },
  {
   "cell_type": "code",
   "execution_count": null,
   "id": "d417e0e0",
   "metadata": {},
   "outputs": [],
   "source": [
    "KERAS_MODEL_NAME = \"tf_model_fashion_mnist.h5\""
   ]
  },
  {
   "cell_type": "code",
   "execution_count": null,
   "id": "63456f9c",
   "metadata": {},
   "outputs": [],
   "source": [
    "model.save(KERAS_MODEL_NAME)"
   ]
  },
  {
   "cell_type": "code",
   "execution_count": null,
   "id": "01ac5ffd",
   "metadata": {},
   "outputs": [],
   "source": [
    "convert_bytes(get_file_size(KERAS_MODEL_NAME), \"MB\")"
   ]
  },
  {
   "cell_type": "code",
   "execution_count": null,
   "id": "62e28046",
   "metadata": {},
   "outputs": [],
   "source": [
    "keras_model_size = get_file_size(KERAS_MODEL_NAME)"
   ]
  },
  {
   "cell_type": "code",
   "execution_count": null,
   "id": "ba6d987e",
   "metadata": {},
   "outputs": [],
   "source": [
    "test_loss, test_acc = model.evaluate(test_images, test_labels, verbose=2)\n",
    "print(\"\\nTest accuracy is {}%\".format(round(100 * test_acc, 2)))"
   ]
  },
  {
   "cell_type": "markdown",
   "id": "da2aad49",
   "metadata": {},
   "source": [
    "## TF Lite Model"
   ]
  },
  {
   "cell_type": "code",
   "execution_count": null,
   "id": "6f6d4848",
   "metadata": {},
   "outputs": [],
   "source": [
    "TF_LITE_MODEL_FILE_NAME = \"tf_lite_model.tflite\""
   ]
  },
  {
   "cell_type": "code",
   "execution_count": null,
   "id": "a54540da",
   "metadata": {},
   "outputs": [],
   "source": [
    "tf_lite_converter = tf.lite.TFLiteConverter.from_keras_model(model)\n",
    "tflite_model = tf_lite_converter.convert()"
   ]
  },
  {
   "cell_type": "code",
   "execution_count": null,
   "id": "cd017878",
   "metadata": {},
   "outputs": [],
   "source": [
    "tflite_model_name = TF_LITE_MODEL_FILE_NAME\n",
    "open(tflite_model_name, \"wb\").write(tflite_model)"
   ]
  },
  {
   "cell_type": "code",
   "execution_count": null,
   "id": "f65bbea2",
   "metadata": {},
   "outputs": [],
   "source": [
    "convert_bytes(get_file_size(TF_LITE_MODEL_FILE_NAME), \"KB\")"
   ]
  },
  {
   "cell_type": "code",
   "execution_count": null,
   "id": "26daf460",
   "metadata": {},
   "outputs": [],
   "source": [
    "tflite_file_size = get_file_size(TF_LITE_MODEL_FILE_NAME)"
   ]
  },
  {
   "cell_type": "markdown",
   "id": "ec011484",
   "metadata": {},
   "source": [
    "## Check Input Tensor Shape"
   ]
  },
  {
   "cell_type": "code",
   "execution_count": null,
   "id": "bd169b00",
   "metadata": {},
   "outputs": [],
   "source": [
    "interpreter = tf.lite.Interpreter(model_path=TF_LITE_MODEL_FILE_NAME)\n",
    "input_details = interpreter.get_input_details()\n",
    "output_details = interpreter.get_output_details()\n",
    "print(\"Input Shape: \", input_details[0][\"shape\"])\n",
    "print(\"Input Type: \", input_details[0][\"dtype\"])\n",
    "print(\"Output Shape: \", output_details[0][\"shape\"])\n",
    "print(\"Output Type: \", output_details[0][\"dtype\"])"
   ]
  },
  {
   "cell_type": "markdown",
   "id": "ca363416",
   "metadata": {},
   "source": [
    "## Resize Tensor Shape"
   ]
  },
  {
   "cell_type": "code",
   "execution_count": null,
   "id": "090b7d10",
   "metadata": {},
   "outputs": [],
   "source": [
    "interpreter.resize_tensor_input(input_details[0][\"index\"], (10000, 28, 28))\n",
    "interpreter.resize_tensor_input(output_details[0][\"index\"], (10000, 10))\n",
    "interpreter.allocate_tensors()\n",
    "input_details = interpreter.get_input_details()\n",
    "output_details = interpreter.get_output_details()\n",
    "print(\"Input Shape: \", input_details[0][\"shape\"])\n",
    "print(\"Input Type: \", input_details[0][\"dtype\"])\n",
    "print(\"Output Shape: \", output_details[0][\"shape\"])\n",
    "print(\"Output Type: \", output_details[0][\"dtype\"])"
   ]
  },
  {
   "cell_type": "code",
   "execution_count": null,
   "id": "5931224c",
   "metadata": {},
   "outputs": [],
   "source": [
    "test_images.dtype"
   ]
  },
  {
   "cell_type": "code",
   "execution_count": null,
   "id": "d01ff4f4",
   "metadata": {},
   "outputs": [],
   "source": [
    "test_imgs_numpy = np.array(test_images, dtype=np.float32)"
   ]
  },
  {
   "cell_type": "code",
   "execution_count": null,
   "id": "c8586afa",
   "metadata": {},
   "outputs": [],
   "source": [
    "interpreter.set_tensor(input_details[0][\"index\"], test_imgs_numpy)\n",
    "interpreter.invoke()\n",
    "tflite_model_predictions = interpreter.get_tensor(output_details[0][\"index\"])\n",
    "print(\"Prediction results shape: \", tflite_model_predictions.shape)\n",
    "prediction_classes = np.argmax(tflite_model_predictions, axis=1)"
   ]
  },
  {
   "cell_type": "code",
   "execution_count": null,
   "id": "74de9be1",
   "metadata": {},
   "outputs": [],
   "source": [
    "acc = accuracy_score(prediction_classes, test_labels)"
   ]
  },
  {
   "cell_type": "code",
   "execution_count": null,
   "id": "56f30245",
   "metadata": {},
   "outputs": [],
   "source": [
    "print(\"Test accuracy TFLITE model is {}%\".format(round(100 * acc, 2)))"
   ]
  },
  {
   "cell_type": "code",
   "execution_count": null,
   "id": "ed515755",
   "metadata": {},
   "outputs": [],
   "source": [
    "tflite_file_size/keras_model_size"
   ]
  },
  {
   "cell_type": "markdown",
   "id": "7dd0c1f5",
   "metadata": {},
   "source": [
    "## TF Lite Model Float 16"
   ]
  },
  {
   "cell_type": "code",
   "execution_count": null,
   "id": "9a88c18c",
   "metadata": {},
   "outputs": [],
   "source": [
    "TF_LITE_MODEL_FLOAT_16_FILE_NAME = \"tf_lite_float_16_model.tflite\""
   ]
  },
  {
   "cell_type": "code",
   "execution_count": null,
   "id": "1c214a55",
   "metadata": {},
   "outputs": [],
   "source": [
    "tf_lite_converter = tf.lite.TFLiteConverter.from_keras_model(model)\n",
    "tf_lite_converter.optimizations = [tf.lite.Optimize.DEFAULT]\n",
    "tf_lite_converter.target_spec.supported_types = [tf.float16]\n",
    "tflite_model = tf_lite_converter.convert()"
   ]
  },
  {
   "cell_type": "code",
   "execution_count": null,
   "id": "3d9e898f",
   "metadata": {},
   "outputs": [],
   "source": [
    "tflite_model_name = TF_LITE_MODEL_FLOAT_16_FILE_NAME\n",
    "open(tflite_model_name, \"wb\").write(tflite_model)"
   ]
  },
  {
   "cell_type": "code",
   "execution_count": null,
   "id": "6799ee4d",
   "metadata": {},
   "outputs": [],
   "source": [
    "convert_bytes(get_file_size(TF_LITE_MODEL_FLOAT_16_FILE_NAME), \"KB\")"
   ]
  },
  {
   "cell_type": "code",
   "execution_count": null,
   "id": "5a2b2c8b",
   "metadata": {},
   "outputs": [],
   "source": [
    "tf_lite_float_16_file_size = get_file_size(TF_LITE_MODEL_FLOAT_16_FILE_NAME)"
   ]
  },
  {
   "cell_type": "code",
   "execution_count": null,
   "id": "c5900a7f",
   "metadata": {},
   "outputs": [],
   "source": [
    "tf_lite_float_16_file_size/keras_model_size"
   ]
  },
  {
   "cell_type": "code",
   "execution_count": null,
   "id": "d5481b6f",
   "metadata": {},
   "outputs": [],
   "source": [
    "tf_lite_float_16_file_size/tflite_file_size"
   ]
  },
  {
   "cell_type": "markdown",
   "id": "3ae47efe",
   "metadata": {},
   "source": [
    "## TF Lite Size Quantized"
   ]
  },
  {
   "cell_type": "code",
   "execution_count": null,
   "id": "7b37ed5d",
   "metadata": {},
   "outputs": [],
   "source": [
    "TF_LITE_SIZE_QUANT_MODEL_FILE_NAME = \"tf_lite_quant_model.tflite\""
   ]
  },
  {
   "cell_type": "code",
   "execution_count": null,
   "id": "5f607073",
   "metadata": {},
   "outputs": [],
   "source": [
    "tf_lite_converter = tf.lite.TFLiteConverter.from_keras_model(model)\n",
    "tf_lite_converter.optimizations = [tf.lite.Optimize.OPTIMIZE_FOR_SIZE]\n",
    "tflite_model = tf_lite_converter.convert()"
   ]
  },
  {
   "cell_type": "code",
   "execution_count": null,
   "id": "51eefc47",
   "metadata": {},
   "outputs": [],
   "source": [
    "tflite_model_name = TF_LITE_SIZE_QUANT_MODEL_FILE_NAME\n",
    "open(tflite_model_name, \"wb\").write(tflite_model)"
   ]
  },
  {
   "cell_type": "code",
   "execution_count": null,
   "id": "098deca1",
   "metadata": {},
   "outputs": [],
   "source": [
    "convert_bytes(get_file_size(TF_LITE_SIZE_QUANT_MODEL_FILE_NAME), \"KB\")"
   ]
  },
  {
   "cell_type": "code",
   "execution_count": null,
   "id": "3a78e4d4",
   "metadata": {},
   "outputs": [],
   "source": [
    "tflite_float_quant_file_size = get_file_size(TF_LITE_SIZE_QUANT_MODEL_FILE_NAME)"
   ]
  },
  {
   "cell_type": "code",
   "execution_count": null,
   "id": "57afb39b",
   "metadata": {},
   "outputs": [],
   "source": [
    "tflite_float_quant_file_size/keras_model_size"
   ]
  },
  {
   "cell_type": "code",
   "execution_count": null,
   "id": "28235b28",
   "metadata": {},
   "outputs": [],
   "source": [
    "tflite_float_quant_file_size/tf_lite_float_16_file_size"
   ]
  },
  {
   "cell_type": "markdown",
   "id": "98fa01f5",
   "metadata": {},
   "source": [
    "## Check Input Tensor Shape"
   ]
  },
  {
   "cell_type": "code",
   "execution_count": null,
   "id": "859055cd",
   "metadata": {},
   "outputs": [],
   "source": [
    "interpreter = tf.lite.Interpreter(model_path=TF_LITE_SIZE_QUANT_MODEL_FILE_NAME)\n",
    "input_details = interpreter.get_input_details()\n",
    "output_details = interpreter.get_output_details()\n",
    "print(\"Input Shape: \", input_details[0][\"shape\"])\n",
    "print(\"Input Type: \", input_details[0][\"dtype\"])\n",
    "print(\"Output Shape: \", output_details[0][\"shape\"])\n",
    "print(\"Output Type: \", output_details[0][\"dtype\"])"
   ]
  },
  {
   "cell_type": "markdown",
   "id": "885150c5",
   "metadata": {},
   "source": [
    "## Resize Tensor Shape"
   ]
  },
  {
   "cell_type": "code",
   "execution_count": null,
   "id": "f15424dd",
   "metadata": {},
   "outputs": [],
   "source": [
    "interpreter.resize_tensor_input(input_details[0][\"index\"], (10000, 28, 28))\n",
    "interpreter.resize_tensor_input(output_details[0][\"index\"], (10000, 10))\n",
    "interpreter.allocate_tensors()\n",
    "input_details = interpreter.get_input_details()\n",
    "output_details = interpreter.get_output_details()\n",
    "print(\"Input Shape: \", input_details[0][\"shape\"])\n",
    "print(\"Input Type: \", input_details[0][\"dtype\"])\n",
    "print(\"Output Shape: \", output_details[0][\"shape\"])\n",
    "print(\"Output Type: \", output_details[0][\"dtype\"])"
   ]
  },
  {
   "cell_type": "code",
   "execution_count": null,
   "id": "53157e63",
   "metadata": {},
   "outputs": [],
   "source": [
    "test_images.dtype"
   ]
  },
  {
   "cell_type": "code",
   "execution_count": null,
   "id": "cf62a6ab",
   "metadata": {},
   "outputs": [],
   "source": [
    "test_imgs_numpy = np.array(test_images, dtype=np.float32)"
   ]
  },
  {
   "cell_type": "code",
   "execution_count": null,
   "id": "265d18c8",
   "metadata": {},
   "outputs": [],
   "source": [
    "interpreter.set_tensor(input_details[0][\"index\"], test_imgs_numpy)\n",
    "interpreter.invoke()\n",
    "tflite_model_predictions = interpreter.get_tensor(output_details[0][\"index\"])\n",
    "print(\"Prediction results shape: \", tflite_model_predictions.shape)\n",
    "prediction_classes = np.argmax(tflite_model_predictions, axis=1)"
   ]
  },
  {
   "cell_type": "code",
   "execution_count": null,
   "id": "768dbf1f",
   "metadata": {},
   "outputs": [],
   "source": [
    "acc = accuracy_score(prediction_classes, test_labels)"
   ]
  },
  {
   "cell_type": "code",
   "execution_count": null,
   "id": "f1fcc537",
   "metadata": {},
   "outputs": [],
   "source": [
    "print(\"Test accuracy TFLITE Quantized model is {}%\".format(round(100 * acc, 2)))"
   ]
  }
 ],
 "metadata": {
  "kernelspec": {
   "display_name": "Python 3 (ipykernel)",
   "language": "python",
   "name": "python3"
  },
  "language_info": {
   "codemirror_mode": {
    "name": "ipython",
    "version": 3
   },
   "file_extension": ".py",
   "mimetype": "text/x-python",
   "name": "python",
   "nbconvert_exporter": "python",
   "pygments_lexer": "ipython3",
   "version": "3.9.7"
  }
 },
 "nbformat": 4,
 "nbformat_minor": 5
}
